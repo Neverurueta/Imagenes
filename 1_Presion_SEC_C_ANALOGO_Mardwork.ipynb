{
  "cells": [
    {
      "cell_type": "markdown",
      "metadata": {
        "id": "f6777a9a"
      },
      "source": [
        "# Hoja Patrón\n",
        "\n",
        "## Patrón Utilizado\n",
        "MANÓMETRO WIKA DE 0 A 15PSI\n",
        "SN: 1A012VAFTIS\n",
        "\n",
        "### Unidad de Medida\n",
        "mmHg\n",
        "\n",
        "### Resolución\n",
        "0.01\n",
        "\n",
        "### Trazabilidad\n",
        "\n",
        "|PRESIÓN DE REFERENCIA|CORRECCIÓN A LA INDICACIÓN|DERIVA|Uexp \\(\\)|INCERTIDUMBRE TÍPICA|K|\n",
        "|---|---|---|---|---|---|\n",
        "|0\\.01|-0\\.01|0\\.019939814814814816|0\\.0087|0\\.00435|2|0\\.01|\n",
        "|49\\.99|0\\.01|1\\.983740220058757e-15|0\\.013|0\\.0065|2|0\\.01|\n",
        "|100\\.01|-0\\.01|0\\.01993981481481992|0\\.013|0\\.0065|2|0\\.01|\n",
        "|150\\.04|-0\\.04|0\\.08972916666667802|0\\.03|0\\.015|2|0\\.01|\n",
        "|200\\.05|-0\\.05|0\\.0797592592592604|0\\.03|0\\.015|2|0\\.01|\n",
        "|250\\.07|-0\\.07|0\\.06978935185185187|0\\.03|0\\.015|2|0\\.01|\n",
        "|300\\.1|-0\\.1|0\\.0996990740740741|0\\.03|0\\.015|2|0\\.01|\n",
        "|400\\.13|-0\\.13|0\\.12960879629629632|0\\.03|0\\.015|2|0\\.01|\n",
        "|500\\.17|-0\\.17|0\\.12960879629627592|0\\.03|0\\.015|2|0\\.01|\n",
        "|600\\.23|-0\\.23|0\\.18942824074077705|0\\.031|0\\.0155|2|0\\.01|\n",
        "|700\\.27|-0\\.27|0\\.17945833333330163|0\\.031|0\\.0155|2|0\\.01|\n",
        "|776\\.0|-0\\.3|0\\.15951851851853213|0\\.032|0\\.016|2|0\\.01|\n",
        "\n",
        "## Interpolación Polinómica \n",
        "\n",
        "En esta parte establecemos por el método de los mínimos cuadrados el modelo de interpolación polinómica de grado 6\n",
        "\n",
        "![Imagen 1. Gráfica de Interpolación](https://github.com/Neverurueta/Imagenes/blob/main/Imagen%2010.%20Curva%20de%20Interpolaci%C3%B3n.png?raw=true)\n",
        "\n",
        "\n",
        "Los coeficientes del modelo son:\n",
        "\n",
        "|Coeficiente|Valor|\n",
        "|---|---|\n",
        "|a|-4\\.420098256848281e-17|\n",
        "|b|1\\.14550142686747e-13|\n",
        "|c|-1\\.1305726077422198e-10|\n",
        "|d|5\\.289355947324622e-08|\n",
        "|e|-1\\.1942806473097305e-05|\n",
        "|f|0\\.0007717377917351675|\n",
        "|g|-0\\.008794440241676794|\n",
        "\n",
        "\n",
        "Los residuos del ajuste con el modelo de regresión en cada punto de calibración se representan a continuación:\n",
        "\n",
        "|PRESIÓN DE REFERENCIA|CORRECCIÓN A LA INDICACIÓN|CORRECCIÓN AJUSTADA|RESIDUOS|\n",
        "|---|---|---|---|\n",
        "|0\\.01|-0\\.01|-0\\.008787|-0\\.001213|\n",
        "|49\\.99|0\\.01|0\\.005876|0\\.004124|\n",
        "|100\\.01|-0\\.01|-0\\.008364|-0\\.001636|\n",
        "|150\\.04|-0\\.04|-0\\.032291|-0\\.007709|\n",
        "|200\\.05|-0\\.05|-0\\.056097|0\\.006097|\n",
        "|250\\.07|-0\\.07|-0\\.076405|0\\.006405|\n",
        "|300\\.1|-0\\.1|-0\\.093662|-0\\.006338|\n",
        "|400\\.13|-0\\.13|-0\\.128131|-0\\.001869|\n",
        "|500\\.17|-0\\.17|-0\\.174048|0\\.004048|\n",
        "|600\\.23|-0\\.23|-0\\.227313|-0\\.002687|\n",
        "|700\\.27|-0\\.27|-0\\.270968|0\\.000968|\n",
        "|776\\.0|-0\\.3|-0\\.29981|-0\\.00019|\n"
      ],
      "id": "f6777a9a"
    },
    {
      "cell_type": "markdown",
      "metadata": {
        "id": "96069010"
      },
      "source": [
        "# Factor de Conversión\n",
        "\n",
        "La tabla de conversión de unidades está referenciada al documento \"Guide for the Use of the International System of Units (SI). NIST Special Publication 811 2008 Edition Ambler Thompson and Barry N. Taylor\" \n",
        "\n",
        "## Unidad de Medida Equipo Patrón \n",
        "mmHg\n",
        "## Unidad de trabajo del equipo a Calibrar \n",
        "mmHg\n",
        "\n",
        "\n"
      ],
      "id": "96069010"
    },
    {
      "cell_type": "markdown",
      "metadata": {
        "id": "61ebbc98"
      },
      "source": [
        "# Patrones Auxiliares\n",
        "\n",
        "Para registros de Temperatura, Humedad Relativa y Presión ambiente se utilizó el equipo Termohigrobarómetro con Serial No  R48582.\n",
        "\n",
        "Las curvas de regresión en cada una de las variables de este patrón se muestran a continuación:\n",
        "\n",
        "![Imagen 2. Gráfica de Interpolación](https://github.com/Neverurueta/Imagenes/blob/main/Imagen%202%20Interpolaci%C3%B3n%20Patr%C3%B3n%20Auxiliar.png?raw=true)\n",
        "\n",
        "\n",
        "Para registro de longitudes se utilizó la cinta métrica con Serial No 2218-E0001 \n",
        "\n",
        "\n",
        "## Polinomios para los Patrones Auxiliares \n",
        "Para las variables de Humedad Relativa y Temperatura el polinomio de interpolación es de grado 3, mientras que para Presión el polinomio es de grado 5.\n",
        "\n",
        "\n",
        "### Temperatura\n",
        "|Coeficiente|Valor|\n",
        "|---|---|\n",
        "|a|0\\.00040464205363935173|\n",
        "|b|-0\\.016044057426800304|\n",
        "|c|0\\.32890042568344086|\n",
        "\n",
        "\n",
        "### Humedad Relativa\n",
        "|Coeficiente|Valor|\n",
        "|---|---|\n",
        "|a|0\\.0004287305122494304|\n",
        "|b|-0\\.17540924276169284|\n",
        "|c|6\\.502695545657093|\n",
        "\n",
        "\n",
        "### Presión\n",
        "|Coeficiente|Valor|\n",
        "|---|---|\n",
        "|a|1\\.7293688446443403e-10|\n",
        "|b|-5\\.376494996816481e-07|\n",
        "|c|0\\.0006149597087726845|\n",
        "|d|-0\\.30499580529715975|\n",
        "|e|55\\.74248677099708|"
      ],
      "id": "61ebbc98"
    },
    {
      "cell_type": "markdown",
      "source": [
        "# Hoja de Datos\n",
        "\n",
        "A continuación se presentan los datos arrojados de la simulación de la medición y los calculos asociados a el valor promedio de las mediciones indicadas en el Equipo Bajo Prueba EBP, la corrección asociada al valor programadoen Patrón, el error de medición, la repetibilidad e histéresis.  \n",
        " \n",
        "|VALOR PROGRAMADO EN IBC|MEDICIÓN 1|MEDICIÓN 2|MEDICIÓN 3|VALOR MEDIO VM|CORRECCIÓN|ERROR|REPETIBILIDAD|HISTERESIS|\n",
        "|---|---|---|---|---|---|---|---|---|\n",
        "|40\\.0|39\\.5|41\\.3|39\\.2|40\\.0|0\\.006074|-0\\.006074|0\\.3|1\\.8|\n",
        "|60\\.0|59\\.2|60\\.8|59\\.1|59\\.7|0\\.004616|0\\.295384|0\\.1|1\\.6|\n",
        "|80\\.0|78\\.8|80\\.3|78\\.9|79\\.333333|-0\\.000455|0\\.667121|0\\.1|1\\.5|\n",
        "|100\\.0|98\\.2|99\\.8|97\\.9|98\\.633333|-0\\.007779|1\\.374445|0\\.3|1\\.6|\n",
        "|120\\.0|118\\.3|120\\.0|117\\.5|118\\.6|-0\\.016819|1\\.416819|0\\.8|1\\.7|\n",
        "|140\\.0|148\\.8|148\\.8|148\\.8|148\\.8|-0\\.031674|-8\\.768326|0\\.0|0\\.0|\n",
        "|180\\.0|178\\.2|180\\.1|180\\.1|179\\.466667|-0\\.046642|0\\.579976|1\\.9|1\\.9|\n",
        "|200\\.0|198\\.8|198\\.8|200\\.1|199\\.233333|-0\\.055734|0\\.822401|1\\.3|0\\.0|\n",
        "|300\\.0|296\\.0|297\\.5|296\\.2|296\\.566667|-0\\.092501|3\\.525834|0\\.2|1\\.5|"
      ],
      "metadata": {
        "id": "xvKiOYLwjHb9"
      },
      "id": "xvKiOYLwjHb9"
    },
    {
      "cell_type": "markdown",
      "metadata": {
        "id": "4ea13273"
      },
      "source": [
        "# Incertidumbre por Diferencia de Altura\n",
        "\n",
        "A continuación se expresa la Incertidumbre por diferencia de Altura relacionando cada una de sus componentes: \n",
        "\n",
        "|Presión en bar|pf|u\\(pf\\)|pf - pa|u\\(pf - pa\\)|u\\(Deltap\\)|ug|u\\(Deltah\\)|uCorr|ucorr \\(unidad seleccionada\\)|\n",
        "|---|---|---|---|---|---|---|---|---|---|\n",
        "|0\\.053337|1\\.27099|0\\.02542|0\\.081209|0\\.0075|0\\.000735|4\\.1e-05|0\\.000164|0\\.000754|5.65683e-06|\n",
        "|0\\.0796|1\\.302321|0\\.026046|0\\.11254|0\\.007677|0\\.000752|5\\.6e-05|0\\.000227|0\\.000788|5.910151e-06|\n",
        "|0\\.105768|1\\.333541|0\\.026671|0\\.14376|0\\.007854|0\\.00077|7\\.2e-05|0\\.00029|0\\.000826|6.193564e-06|\n",
        "|0\\.13149|1\\.364226|0\\.027285|0\\.174445|0\\.008028|0\\.000787|8\\.7e-05|0\\.000352|0\\.000866|6.498359e-06|\n",
        "|0\\.158098|1\\.395969|0\\.027919|0\\.206189|0\\.008207|0\\.000804|0\\.000103|0\\.000416|0\\.000912|6.837299e-06|\n",
        "|0\\.198341|1\\.44398|0\\.02888|0\\.254199|0\\.00848|0\\.000831|0\\.000127|0\\.000513|0\\.000985|7.388249e-06|\n",
        "|0\\.239207|1\\.492732|0\\.029855|0\\.302951|0\\.008757|0\\.000858|0\\.000151|0\\.000612|0\\.001065|7.986146e-06|\n",
        "|0\\.265548|1\\.524157|0\\.030483|0\\.334377|0\\.008935|0\\.000876|0\\.000167|0\\.000675|0\\.001118|8.388242e-06|\n",
        "|0\\.395266|1\\.678911|0\\.033578|0\\.48913|0\\.009816|0\\.000962|0\\.000245|0\\.000988|0\\.0014|1.0503342e-05|\n",
        "\n",
        "\n",
        "\n"
      ],
      "id": "4ea13273"
    },
    {
      "cell_type": "markdown",
      "metadata": {
        "id": "4f74c0b1"
      },
      "source": [
        "# Incertidumbre de Medición\n",
        "\n",
        "A continuación se entrega el balance de Incertibmbre de la medición desglosando cada una de sus componentes y entregrando como resultado final la incertidumbre expandida.\n",
        "\n",
        "|VALOR EN IBC|VM|Inc Dif Alt|Inc Patrón|Inc Res EBP|Inc Deriva Patrón|Deriva de Cero|Repetibilidad|Histeresis|Curva Ajuste|ANOVA|Combinada|veff|K|U Expandida|\n",
        "|---|---|---|---|---|---|---|---|---|---|---|---|---|---|---|\n",
        "|40\\.0|40\\.0|6e-06|0\\.015|0\\.57735|0\\.109366|0\\.0|0\\.086603|0\\.519615|0\\.006738|0\\.0619|0\\.791768|425\\.71522|2\\.0|1\\.583536|\n",
        "|60\\.0|59\\.7|6e-06|0\\.015|0\\.57735|0\\.109366|0\\.0|0\\.028868|0\\.46188|0\\.006738|0\\.0619|0\\.750708|404\\.112508|2\\.0|1\\.501417|\n",
        "|80\\.0|79\\.333333|6e-06|0\\.015|0\\.57735|0\\.109366|0\\.0|0\\.028868|0\\.433013|0\\.006738|0\\.0619|0\\.733301|393\\.859316|2\\.0|1\\.466601|\n",
        "|100\\.0|98\\.633333|6e-06|0\\.015|0\\.57735|0\\.109366|0\\.0|0\\.086603|0\\.46188|0\\.006738|0\\.0619|0\\.755136|413\\.583776|2\\.0|1\\.510271|\n",
        "|120\\.0|118\\.6|7e-06|0\\.015|0\\.57735|0\\.109366|0\\.0|0\\.23094|0\\.490748|0\\.006738|0\\.0619|0\\.802224|480\\.148376|2\\.0|1\\.604448|\n",
        "|140\\.0|148\\.8|7e-06|0\\.015|0\\.57735|0\\.109366|0\\.0|0\\.0|0\\.0|0\\.006738|0\\.0619|0\\.591098|218\\.63293|2\\.0|1\\.182195|\n",
        "|180\\.0|179\\.466667|8e-06|0\\.015|0\\.57735|0\\.109366|0\\.0|0\\.548483|0\\.548483|0\\.006738|0\\.0619|0\\.975225|618\\.105675|2\\.0|1\\.950449|\n",
        "|200\\.0|199\\.233333|8e-06|0\\.015|0\\.57735|0\\.109366|0\\.0|0\\.375278|0\\.0|0\\.006738|0\\.0619|0\\.700164|365\\.491867|2\\.0|1\\.400328|\n",
        "|300\\.0|296\\.566667|1\\.1e-05|0\\.015|0\\.57735|0\\.109366|0\\.0|0\\.057735|0\\.433013|0\\.006738|0\\.0619|0\\.735003|397\\.501872|2\\.0|1\\.470006|\n",
        "\n",
        "## Gráfico de Error + Incertidumbre\n",
        "![Imagen 3. Gráfica de Error + Incertidumbre](https://github.com/Neverurueta/Imagenes/blob/main/Imagen%2011.%20Gr%C3%A1fica%20de%20Error%20m%C3%A1s%20Incertidumbre.png?raw=true)\n"
      ],
      "id": "4f74c0b1"
    }
  ],
  "metadata": {
    "colab": {
      "provenance": []
    },
    "kernelspec": {
      "display_name": "Python 3 (ipykernel)",
      "language": "python",
      "name": "python3"
    },
    "language_info": {
      "codemirror_mode": {
        "name": "ipython",
        "version": 3
      },
      "file_extension": ".py",
      "mimetype": "text/x-python",
      "name": "python",
      "nbconvert_exporter": "python",
      "pygments_lexer": "ipython3",
      "version": "3.9.13"
    }
  },
  "nbformat": 4,
  "nbformat_minor": 5
}